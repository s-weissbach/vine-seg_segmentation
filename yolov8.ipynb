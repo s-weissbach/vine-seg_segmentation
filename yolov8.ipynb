{
 "cells": [
  {
   "cell_type": "markdown",
   "id": "55e942df",
   "metadata": {},
   "source": [
    "# Generate .txt files in YOLO format"
   ]
  },
  {
   "cell_type": "code",
   "execution_count": 1,
   "id": "44ec10c3",
   "metadata": {},
   "outputs": [],
   "source": [
    "import os\n",
    "from datasets.utils import coco_seg_to_yolov8"
   ]
  },
  {
   "cell_type": "code",
   "execution_count": 5,
   "id": "b9ff0ecf",
   "metadata": {
    "scrolled": false
   },
   "outputs": [
    {
     "name": "stdout",
     "output_type": "stream",
     "text": [
      "Starting with the generation of allen-dataset annotation files...\n",
      "Finished with allen!\n"
     ]
    }
   ],
   "source": [
    "datasets = [\n",
    "    'allen',\n",
    "#     'ogb1_up',\n",
    "#     'neurofinder',\n",
    "#     'naomi',\n",
    "]\n",
    "\n",
    "# generate yolo files\n",
    "for dataset in datasets:\n",
    "    print(f'Starting with the generation of {dataset}-dataset annotation files...')\n",
    "    \n",
    "    path = f'data/{dataset}/coco'\n",
    "    coco_dict_name = [file for file in os.listdir(path) if '.json' in file][0]\n",
    "    full_file_path = os.path.join(path, coco_dict_name)\n",
    "\n",
    "    coco_seg_to_yolov8(full_file_path, f'data/{dataset}/yolo')\n",
    "    \n",
    "    print(f'Finished with {dataset}!')"
   ]
  },
  {
   "cell_type": "code",
   "execution_count": null,
   "id": "75a69a61",
   "metadata": {},
   "outputs": [],
   "source": [
    "# you have to split them into separate folders by hand at the moment"
   ]
  },
  {
   "cell_type": "markdown",
   "id": "6a40484d",
   "metadata": {},
   "source": [
    "# Spin up YoloV8"
   ]
  },
  {
   "cell_type": "code",
   "execution_count": 2,
   "id": "d83861b1",
   "metadata": {},
   "outputs": [],
   "source": [
    "from ultralytics import YOLO"
   ]
  },
  {
   "cell_type": "code",
   "execution_count": 3,
   "id": "ea1737ee",
   "metadata": {},
   "outputs": [],
   "source": [
    "# Load a model\n",
    "model = YOLO('yolov8m-seg.pt')"
   ]
  },
  {
   "cell_type": "code",
   "execution_count": 4,
   "id": "56b4b3bf",
   "metadata": {
    "scrolled": false
   },
   "outputs": [
    {
     "name": "stderr",
     "output_type": "stream",
     "text": [
      "Ultralytics YOLOv8.0.138 🚀 Python-3.11.3 torch-2.0.1+cu117 CUDA:0 (NVIDIA GeForce GTX 1080 Ti, 11169MiB)\n",
      "\u001b[34m\u001b[1mengine/trainer: \u001b[0mtask=segment, mode=train, model=yolov8m-seg.pt, data=data/allen/yolo/data.yaml, epochs=5, patience=50, batch=8, imgsz=640, save=True, save_period=-1, cache=False, device=None, workers=8, project=None, name=None, exist_ok=False, pretrained=True, optimizer=auto, verbose=True, seed=0, deterministic=True, single_cls=False, rect=False, cos_lr=False, close_mosaic=10, resume=False, amp=True, fraction=1.0, profile=False, overlap_mask=True, mask_ratio=4, dropout=0.0, val=True, split=val, save_json=False, save_hybrid=False, conf=None, iou=0.7, max_det=300, half=False, dnn=False, plots=True, source=None, show=False, save_txt=False, save_conf=False, save_crop=False, show_labels=False, show_conf=True, vid_stride=1, line_width=None, visualize=False, augment=False, agnostic_nms=False, classes=None, retina_masks=False, boxes=True, format=torchscript, keras=False, optimize=False, int8=False, dynamic=False, simplify=False, opset=None, workspace=4, nms=False, lr0=0.01, lrf=0.01, momentum=0.937, weight_decay=0.0005, warmup_epochs=3.0, warmup_momentum=0.8, warmup_bias_lr=0.1, box=7.5, cls=0.5, dfl=1.5, pose=12.0, kobj=1.0, label_smoothing=0.0, nbs=64, hsv_h=0.015, hsv_s=0.7, hsv_v=0.4, degrees=0.0, translate=0.1, scale=0.5, shear=0.0, perspective=0.0, flipud=0.0, fliplr=0.5, mosaic=1.0, mixup=0.0, copy_paste=0.0, cfg=None, tracker=botsort.yaml, save_dir=runs/segment/train3\n",
      "Overriding model.yaml nc=80 with nc=1\n",
      "\n",
      "                   from  n    params  module                                       arguments                     \n",
      "  0                  -1  1      1392  ultralytics.nn.modules.conv.Conv             [3, 48, 3, 2]                 \n",
      "  1                  -1  1     41664  ultralytics.nn.modules.conv.Conv             [48, 96, 3, 2]                \n",
      "  2                  -1  2    111360  ultralytics.nn.modules.block.C2f             [96, 96, 2, True]             \n",
      "  3                  -1  1    166272  ultralytics.nn.modules.conv.Conv             [96, 192, 3, 2]               \n",
      "  4                  -1  4    813312  ultralytics.nn.modules.block.C2f             [192, 192, 4, True]           \n",
      "  5                  -1  1    664320  ultralytics.nn.modules.conv.Conv             [192, 384, 3, 2]              \n",
      "  6                  -1  4   3248640  ultralytics.nn.modules.block.C2f             [384, 384, 4, True]           \n",
      "  7                  -1  1   1991808  ultralytics.nn.modules.conv.Conv             [384, 576, 3, 2]              \n",
      "  8                  -1  2   3985920  ultralytics.nn.modules.block.C2f             [576, 576, 2, True]           \n",
      "  9                  -1  1    831168  ultralytics.nn.modules.block.SPPF            [576, 576, 5]                 \n",
      " 10                  -1  1         0  torch.nn.modules.upsampling.Upsample         [None, 2, 'nearest']          \n",
      " 11             [-1, 6]  1         0  ultralytics.nn.modules.conv.Concat           [1]                           \n",
      " 12                  -1  2   1993728  ultralytics.nn.modules.block.C2f             [960, 384, 2]                 \n",
      " 13                  -1  1         0  torch.nn.modules.upsampling.Upsample         [None, 2, 'nearest']          \n",
      " 14             [-1, 4]  1         0  ultralytics.nn.modules.conv.Concat           [1]                           \n",
      " 15                  -1  2    517632  ultralytics.nn.modules.block.C2f             [576, 192, 2]                 \n",
      " 16                  -1  1    332160  ultralytics.nn.modules.conv.Conv             [192, 192, 3, 2]              \n",
      " 17            [-1, 12]  1         0  ultralytics.nn.modules.conv.Concat           [1]                           \n",
      " 18                  -1  2   1846272  ultralytics.nn.modules.block.C2f             [576, 384, 2]                 \n",
      " 19                  -1  1   1327872  ultralytics.nn.modules.conv.Conv             [384, 384, 3, 2]              \n",
      " 20             [-1, 9]  1         0  ultralytics.nn.modules.conv.Concat           [1]                           \n",
      " 21                  -1  2   4207104  ultralytics.nn.modules.block.C2f             [960, 576, 2]                 \n",
      " 22        [15, 18, 21]  1   5159603  ultralytics.nn.modules.head.Segment          [1, 32, 192, [192, 384, 576]] \n",
      "YOLOv8m-seg summary: 331 layers, 27240227 parameters, 27240211 gradients\n",
      "\n",
      "Transferred 531/537 items from pretrained weights\n",
      "\u001b[34m\u001b[1mTensorBoard: \u001b[0mStart with 'tensorboard --logdir runs/segment/train3', view at http://localhost:6006/\n",
      "\u001b[34m\u001b[1mAMP: \u001b[0mrunning Automatic Mixed Precision (AMP) checks with YOLOv8n...\n",
      "\u001b[34m\u001b[1mAMP: \u001b[0mchecks passed ✅\n",
      "\u001b[34m\u001b[1mtrain: \u001b[0mScanning /home/jonasm/work/vine-seg_segmentation/data/allen/yolo/train/labels.cache... 1000 images, 0 backgrounds, 0 corrupt: 100%|████\u001b[0m\n",
      "\u001b[34m\u001b[1mval: \u001b[0mScanning /home/jonasm/work/vine-seg_segmentation/data/allen/yolo/val/labels.cache... 143 images, 0 backgrounds, 0 corrupt: 100%|█████████\u001b[0m\n",
      "Plotting labels to runs/segment/train3/labels.jpg... \n",
      "\u001b[34m\u001b[1moptimizer:\u001b[0m AdamW(lr=0.002, momentum=0.9) with parameter groups 86 weight(decay=0.0), 97 weight(decay=0.0005), 96 bias(decay=0.0)\n",
      "Image sizes 640 train, 640 val\n",
      "Using 6 dataloader workers\n",
      "Logging results to \u001b[1mruns/segment/train3\u001b[0m\n",
      "Starting training for 5 epochs...\n",
      "\n",
      "      Epoch    GPU_mem   box_loss   seg_loss   cls_loss   dfl_loss  Instances       Size\n",
      "        1/5      9.25G      1.813      2.736      1.269      1.073       1452        640: 100%|██████████| 125/125 [01:18<00:00,  1.60it/s]\n",
      "                 Class     Images  Instances      Box(P          R      mAP50  mAP50-95)     Mask(P          R      mAP50  mAP50-95): 100%|███\n",
      "                   all        143       7763       0.72      0.669      0.715      0.383       0.69      0.624      0.658      0.254\n",
      "\n",
      "      Epoch    GPU_mem   box_loss   seg_loss   cls_loss   dfl_loss  Instances       Size\n",
      "        2/5      8.18G      1.712      2.481      1.058      1.027        947        640: 100%|██████████| 125/125 [01:11<00:00,  1.74it/s]\n",
      "                 Class     Images  Instances      Box(P          R      mAP50  mAP50-95)     Mask(P          R      mAP50  mAP50-95): 100%|███\n",
      "                   all        143       7763      0.778      0.766      0.807      0.436      0.761      0.735      0.763      0.346\n",
      "\n",
      "      Epoch    GPU_mem   box_loss   seg_loss   cls_loss   dfl_loss  Instances       Size\n",
      "        3/5      9.34G      1.695      2.447      1.003      1.025        462        640: 100%|██████████| 125/125 [01:11<00:00,  1.74it/s]\n",
      "                 Class     Images  Instances      Box(P          R      mAP50  mAP50-95)     Mask(P          R      mAP50  mAP50-95): 100%|███\n",
      "                   all        143       7763      0.691       0.73      0.739      0.394      0.674      0.707      0.706      0.294\n",
      "\n",
      "      Epoch    GPU_mem   box_loss   seg_loss   cls_loss   dfl_loss  Instances       Size\n",
      "        4/5      8.35G       1.61      2.316     0.9425      1.003       1382        640: 100%|██████████| 125/125 [01:11<00:00,  1.75it/s]\n",
      "                 Class     Images  Instances      Box(P          R      mAP50  mAP50-95)     Mask(P          R      mAP50  mAP50-95): 100%|███\n",
      "                   all        143       7763       0.77      0.738      0.802      0.469      0.753      0.703      0.758      0.332\n",
      "\n",
      "      Epoch    GPU_mem   box_loss   seg_loss   cls_loss   dfl_loss  Instances       Size\n",
      "        5/5      9.53G      1.635      2.353     0.9182       1.01        510        640: 100%|██████████| 125/125 [01:12<00:00,  1.73it/s]\n",
      "                 Class     Images  Instances      Box(P          R      mAP50  mAP50-95)     Mask(P          R      mAP50  mAP50-95): 100%|███\n",
      "                   all        143       7763      0.728      0.711      0.753      0.347      0.674      0.638       0.66      0.217\n",
      "\n",
      "5 epochs completed in 0.114 hours.\n",
      "Optimizer stripped from runs/segment/train3/weights/last.pt, 54.8MB\n",
      "Optimizer stripped from runs/segment/train3/weights/best.pt, 54.8MB\n",
      "\n",
      "Validating runs/segment/train3/weights/best.pt...\n",
      "Ultralytics YOLOv8.0.138 🚀 Python-3.11.3 torch-2.0.1+cu117 CUDA:0 (NVIDIA GeForce GTX 1080 Ti, 11169MiB)\n",
      "YOLOv8m-seg summary (fused): 245 layers, 27222963 parameters, 0 gradients\n"
     ]
    },
    {
     "name": "stderr",
     "output_type": "stream",
     "text": [
      "                 Class     Images  Instances      Box(P          R      mAP50  mAP50-95)     Mask(P          R      mAP50  mAP50-95): 100%|███\n",
      "                   all        143       7763      0.773      0.737      0.802       0.47      0.753      0.704      0.758      0.333\n",
      "Speed: 0.3ms preprocess, 16.2ms inference, 0.0ms loss, 8.1ms postprocess per image\n",
      "Results saved to \u001b[1mruns/segment/train3\u001b[0m\n"
     ]
    }
   ],
   "source": [
    "model.train(data='data/allen/yolo/data.yaml', epochs=5, imgsz=640, show_labels=False, batch=8)"
   ]
  }
 ],
 "metadata": {
  "kernelspec": {
   "display_name": "Python 3 (ipykernel)",
   "language": "python",
   "name": "python3"
  },
  "language_info": {
   "codemirror_mode": {
    "name": "ipython",
    "version": 3
   },
   "file_extension": ".py",
   "mimetype": "text/x-python",
   "name": "python",
   "nbconvert_exporter": "python",
   "pygments_lexer": "ipython3",
   "version": "3.11.3"
  }
 },
 "nbformat": 4,
 "nbformat_minor": 5
}
