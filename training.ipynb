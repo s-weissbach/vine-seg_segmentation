{
 "cells": [
  {
   "cell_type": "code",
   "execution_count": 1,
   "id": "1ea133c3",
   "metadata": {},
   "outputs": [],
   "source": [
    "from ultralytics import YOLO"
   ]
  },
  {
   "cell_type": "code",
   "execution_count": 2,
   "id": "1fcd0194",
   "metadata": {},
   "outputs": [],
   "source": [
    "# start with a new model\n",
    "model = YOLO('yolov8s-seg.pt')"
   ]
  },
  {
   "cell_type": "code",
   "execution_count": null,
   "id": "41c36fd1",
   "metadata": {},
   "outputs": [],
   "source": [
    "# alternatively you can use a pre-trained model from models/\n",
    "model = YOLO('models/vine_seg-allen.pt')"
   ]
  },
  {
   "cell_type": "code",
   "execution_count": null,
   "id": "10b957ff",
   "metadata": {
    "scrolled": false
   },
   "outputs": [],
   "source": [
    "# train model\n",
    "model.train(data='data/example/yolo/data.yaml', epochs=50, imgsz=640, batch=4)"
   ]
  }
 ],
 "metadata": {
  "kernelspec": {
   "display_name": "Python 3 (ipykernel)",
   "language": "python",
   "name": "python3"
  },
  "language_info": {
   "codemirror_mode": {
    "name": "ipython",
    "version": 3
   },
   "file_extension": ".py",
   "mimetype": "text/x-python",
   "name": "python",
   "nbconvert_exporter": "python",
   "pygments_lexer": "ipython3",
   "version": "3.11.3"
  }
 },
 "nbformat": 4,
 "nbformat_minor": 5
}
