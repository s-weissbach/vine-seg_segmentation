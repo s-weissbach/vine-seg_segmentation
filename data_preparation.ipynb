{
 "cells": [
  {
   "cell_type": "code",
   "execution_count": 3,
   "id": "b1c586aa",
   "metadata": {},
   "outputs": [],
   "source": [
    "import os\n",
    "import cv2"
   ]
  },
  {
   "cell_type": "markdown",
   "id": "818fb490",
   "metadata": {},
   "source": [
    "This jupyter notebook helps you to train a model to your custom data. \n",
    "It will use the annotations you made with vineseg as an input for the training. \n",
    "1. Create a new folder within `data` and within data create the subfolders:\n",
    "    - `raw`\n",
    "    - `coco`\n",
    "    - `yolo`\n",
    "2. Put all images along with their annotation file into the raw folder `data/<your_folder>/raw``. \n",
    "    - imporant: image and annotation file must have the same prefix\n",
    "3. generate the coco-json formated file\n",
    "    - you can create several coco-json files from differing data sets and merge them in the next step\n",
    "4. transfer the coco-json file(s) to the yolo file\n",
    "\n",
    "After running the script, your folder should look like this:"
   ]
  },
  {
   "cell_type": "code",
   "execution_count": 3,
   "id": "3aad9c47",
   "metadata": {},
   "outputs": [],
   "source": [
    "#data/example  \n",
    "#├── coco  \n",
    "#│   └── coco_dict.json  \n",
    "#├── raw \n",
    "#│   ├── image1.png\n",
    "#│   ├── image1.json\n",
    "#│   ├── (...)\n",
    "#│   └── imageN.json\n",
    "#└── yolo  \n",
    "#    ├── data.yaml  \n",
    "#    ├── test  \n",
    "#    │   ├── images  \n",
    "#    │   │   └── neurofinder-00-00_png.rf.d901011138af37195cc5de5ec8e96035.jpg  \n",
    "#    │   └── labels  \n",
    "#    │       └── neurofinder-00-00_png.rf.d901011138af37195cc5de5ec8e96035.txt  \n",
    "#    ├── train  \n",
    "#    │   ├── images  \n",
    "#    │   │   └── neurofinder-00-00_png.rf.d901011138af37195cc5de5ec8e96035.jpg  \n",
    "#    │   └── labels  \n",
    "#    │       └── neurofinder-00-00_png.rf.d901011138af37195cc5de5ec8e96035.txt  \n",
    "#    └── val  \n",
    "#        ├── images  \n",
    "#        │   └── neurofinder-00-00_png.rf.d901011138af37195cc5de5ec8e96035.jpg  \n",
    "#        └── labels  \n",
    "#            └── neurofinder-00-00_png.rf.d901011138af37195cc5de5ec8e96035.txt  "
   ]
  },
  {
   "cell_type": "markdown",
   "id": "f8aafe44",
   "metadata": {},
   "source": [
    "# Generate coco_dicts for datasets"
   ]
  },
  {
   "cell_type": "markdown",
   "id": "fc3198b3",
   "metadata": {},
   "source": [
    "You can prepare several coco dicts successively and merge them into one dataset\n",
    "for training in the next step."
   ]
  },
  {
   "cell_type": "markdown",
   "id": "93c31aca",
   "metadata": {},
   "source": [
    "## Set variables"
   ]
  },
  {
   "cell_type": "code",
   "execution_count": null,
   "id": "63ce11a5",
   "metadata": {},
   "outputs": [],
   "source": [
    "dataset = \"example\"\n",
    "description = 'this is a toy example data set'\n",
    "url = 'in-house data'\n",
    "version = '0.1'\n",
    "year = 2024\n",
    "contributor = 'somebody'\n",
    "data_created = '01-01-2024'\n",
    "# if you combine multiple datasets, ensure that annotation ids do not overlap\n",
    "annotation_id_start = 0\n",
    "image_fileendings = ['.png'] "
   ]
  },
  {
   "cell_type": "code",
   "execution_count": null,
   "id": "0d9cd38a",
   "metadata": {},
   "outputs": [],
   "source": [
    "input_folder = f'data/{dataset}/raw'\n",
    "coco_output_path = f'data/{dataset}/coco'\n",
    "\n",
    "generate_coco_dict(input_path,\n",
    "                   output_path,\n",
    "                   description,\n",
    "                   url,\n",
    "                   version,\n",
    "                   year,\n",
    "                   contributor,\n",
    "                   date_created,\n",
    "                   annotation_id_start,\n",
    "                   image_fileendings,)"
   ]
  },
  {
   "cell_type": "markdown",
   "id": "8810c85c",
   "metadata": {},
   "source": [
    "# Convert coco_dict to yolo"
   ]
  },
  {
   "cell_type": "code",
   "execution_count": null,
   "id": "559448eb",
   "metadata": {},
   "outputs": [],
   "source": [
    "# train / test / val\n",
    "splits = [.8, .1, .1]\n",
    "\n",
    "# the dataset name \n",
    "datasets = [\n",
    "    'example'\n",
    "]\n",
    "\n",
    "# generate yolo files\n",
    "for dataset in datasets:\n",
    "    print(f'Starting with the generation of {dataset}-dataset annotation files...')\n",
    "    coco_seg_to_yolov8(f'data/{dataset}/coco', f'data/{dataset}/yolo', splits)\n",
    "    print(f'Finished with {dataset}!')"
   ]
  }
 ],
 "metadata": {
  "kernelspec": {
   "display_name": "Python 3 (ipykernel)",
   "language": "python",
   "name": "python3"
  },
  "language_info": {
   "codemirror_mode": {
    "name": "ipython",
    "version": 3
   },
   "file_extension": ".py",
   "mimetype": "text/x-python",
   "name": "python",
   "nbconvert_exporter": "python",
   "pygments_lexer": "ipython3",
   "version": "3.9.18"
  }
 },
 "nbformat": 4,
 "nbformat_minor": 5
}
